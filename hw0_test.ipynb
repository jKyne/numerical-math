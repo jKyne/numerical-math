{
 "cells": [
  {
   "cell_type": "markdown",
   "metadata": {},
   "source": [
    "Before you turn this problem in, make sure everything runs as expected. First, **restart the kernel** (in the menubar, select Kernel$\\rightarrow$Restart) and then **run all cells** (in the menubar, select Cell$\\rightarrow$Run All).\n",
    "\n",
    "Make sure you fill in any place that says `YOUR CODE HERE` or \"YOUR ANSWER HERE\", as well as your name and collaborators below:"
   ]
  },
  {
   "cell_type": "code",
   "execution_count": 1,
   "metadata": {},
   "outputs": [],
   "source": [
    "NAME = \"Jia Kang\"\n",
    "COLLABORATORS = \"\""
   ]
  },
  {
   "cell_type": "markdown",
   "metadata": {},
   "source": [
    "---"
   ]
  },
  {
   "cell_type": "code",
   "execution_count": 7,
   "metadata": {},
   "outputs": [],
   "source": [
    "from __future__ import print_function\n",
    "%matplotlib inline\n",
    "%precision 16\n",
    "import numpy as np\n",
    "import matplotlib.pyplot as plt"
   ]
  },
  {
   "cell_type": "markdown",
   "metadata": {
    "deletable": false,
    "editable": false,
    "nbgrader": {
     "cell_type": "markdown",
     "checksum": "4538558000bd4a0b5ea4a6cc367eabe8",
     "grade": false,
     "grade_id": "cell8438889984008151",
     "locked": true,
     "schema_version": 3,
     "solution": false
    }
   },
   "source": [
    "# Homework 0:  A Test\n",
    "\n",
    "This notebook contains two short (and hopefully simple) problems to test the homework collection and grading system for APMA4300"
   ]
  },
  {
   "cell_type": "markdown",
   "metadata": {
    "deletable": false,
    "editable": false,
    "nbgrader": {
     "cell_type": "markdown",
     "checksum": "3a07d19ecc60d157215f1da3c2b21ba3",
     "grade": false,
     "grade_id": "cell6823144658916374",
     "locked": true,
     "schema_version": 3,
     "solution": false
    }
   },
   "source": [
    "## Question 1  \n",
    "\n",
    "In the cell below, write out in LaTeX the quadratic formula that solves\n",
    "\n",
    "$$\n",
    "    x^2 + \\alpha x + \\beta = 0\n",
    "$$"
   ]
  },
  {
   "cell_type": "markdown",
   "metadata": {
    "deletable": false,
    "nbgrader": {
     "cell_type": "markdown",
     "checksum": "ec151a4e9dc8ddb514ade3caac782630",
     "grade": true,
     "grade_id": "cell1448053803160613",
     "locked": false,
     "points": 1,
     "schema_version": 3,
     "solution": true
    }
   },
   "source": [
    "$$\n",
    "x=\\frac{-\\alpha\\pm\\sqrt{\\alpha^2-4\\beta}}{2}\n",
    "$$"
   ]
  },
  {
   "cell_type": "markdown",
   "metadata": {
    "deletable": false,
    "editable": false,
    "nbgrader": {
     "cell_type": "markdown",
     "checksum": "6e78c79305b7362364088234b01cdb55",
     "grade": false,
     "grade_id": "cell4384914739699754",
     "locked": true,
     "schema_version": 3,
     "solution": false
    }
   },
   "source": [
    "## Question 2"
   ]
  },
  {
   "cell_type": "markdown",
   "metadata": {
    "deletable": false,
    "editable": false,
    "nbgrader": {
     "cell_type": "markdown",
     "checksum": "ad6d1a72a7c1da5bf21bce73c00d7288",
     "grade": false,
     "grade_id": "cell1244223495354736",
     "locked": true,
     "schema_version": 3,
     "solution": false
    }
   },
   "source": [
    "Write a python function that returns the two roots of your quadratic equation given coefficients $\\alpha$, $\\beta$\n",
    "\n",
    "This is actually a little trickier than it looks:\n",
    "*  you can use numpy.sqrt(x) but be careful, it will fail if $x<0$ unless you call it as numpy.sqrt(x,dtype=complex)\n",
    "*  The tests assume the two roots are sorted (hint: you can use numpy.sort())"
   ]
  },
  {
   "cell_type": "code",
   "execution_count": 23,
   "metadata": {
    "deletable": false,
    "nbgrader": {
     "cell_type": "code",
     "checksum": "f3f0e1aa18e3e3f7cb7e4e658dbfa434",
     "grade": false,
     "grade_id": "cell3621925556728684",
     "locked": false,
     "schema_version": 3,
     "solution": true
    }
   },
   "outputs": [],
   "source": [
    "def myroots(a, b):\n",
    "    \"\"\"Compute the two roots of the quadratic equation given by x^2 + ax + b = 0\n",
    "       and return them as a python list\n",
    "    \"\"\"\n",
    "    # YOUR CODE HERE\n",
    "    x = [(-1*a+np.sqrt(a**2-4*b,dtype=complex))/2, (-1*a-np.sqrt(a**2-4*b,dtype=complex))/2];\n",
    "    #print(x)\n",
    "    return np.sort(x)\n",
    "    raise NotImplementedError()"
   ]
  },
  {
   "cell_type": "code",
   "execution_count": 24,
   "metadata": {
    "deletable": false,
    "editable": false,
    "nbgrader": {
     "cell_type": "code",
     "checksum": "15899bf614deffd47171259ef5d95c31",
     "grade": true,
     "grade_id": "cell5655123106444739",
     "locked": true,
     "points": 5,
     "schema_version": 3,
     "solution": false
    }
   },
   "outputs": [],
   "source": [
    "numpy.testing.assert_allclose(myroots(1.,0.), [-1.,0.])\n",
    "numpy.testing.assert_allclose(myroots(1.,-2.), [-2.,1.])\n",
    "numpy.testing.assert_allclose(myroots(-5.0,6.0), [2.,3.])"
   ]
  },
  {
   "cell_type": "code",
   "execution_count": null,
   "metadata": {},
   "outputs": [],
   "source": []
  }
 ],
 "metadata": {
  "kernelspec": {
   "display_name": "Python 3",
   "language": "python",
   "name": "python3"
  },
  "language_info": {
   "codemirror_mode": {
    "name": "ipython",
    "version": 3
   },
   "file_extension": ".py",
   "mimetype": "text/x-python",
   "name": "python",
   "nbconvert_exporter": "python",
   "pygments_lexer": "ipython3",
   "version": "3.7.3"
  }
 },
 "nbformat": 4,
 "nbformat_minor": 2
}
